{
  "nbformat": 4,
  "nbformat_minor": 0,
  "metadata": {
    "colab": {
      "name": "MLHW_Week2_Qns1.ipynb",
      "provenance": [],
      "collapsed_sections": []
    },
    "kernelspec": {
      "name": "python3",
      "display_name": "Python 3"
    }
  },
  "cells": [
    {
      "cell_type": "markdown",
      "metadata": {
        "id": "vTTu59Fao2bJ",
        "colab_type": "text"
      },
      "source": [
        "# Qns 1"
      ]
    },
    {
      "cell_type": "code",
      "metadata": {
        "id": "jIMMyRwPslSy",
        "colab_type": "code",
        "outputId": "15b31534-a1ed-4d1c-957b-e7234146e9dc",
        "colab": {
          "resources": {
            "http://localhost:8080/nbextensions/google.colab/files.js": {
              "data": "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",
              "ok": true,
              "headers": [
                [
                  "content-type",
                  "application/javascript"
                ]
              ],
              "status": 200,
              "status_text": ""
            }
          },
          "base_uri": "https://localhost:8080/",
          "height": 74
        }
      },
      "source": [
        "## if this fails to run, just run it again\n",
        "from google.colab import files\n",
        "t_data = files.upload()\n"
      ],
      "execution_count": 2,
      "outputs": [
        {
          "output_type": "display_data",
          "data": {
            "text/html": [
              "\n",
              "     <input type=\"file\" id=\"files-5297466c-5a53-4704-8e09-dfc764a00369\" name=\"files[]\" multiple disabled />\n",
              "     <output id=\"result-5297466c-5a53-4704-8e09-dfc764a00369\">\n",
              "      Upload widget is only available when the cell has been executed in the\n",
              "      current browser session. Please rerun this cell to enable.\n",
              "      </output>\n",
              "      <script src=\"/nbextensions/google.colab/files.js\"></script> "
            ],
            "text/plain": [
              "<IPython.core.display.HTML object>"
            ]
          },
          "metadata": {
            "tags": []
          }
        },
        {
          "output_type": "stream",
          "text": [
            "Saving hw2-image.txt to hw2-image.txt\n"
          ],
          "name": "stdout"
        }
      ]
    },
    {
      "cell_type": "code",
      "metadata": {
        "id": "cSiotMlyZc7T",
        "colab_type": "code",
        "colab": {}
      },
      "source": [
        "import pandas as pd\n",
        "import numpy as np\n",
        "import matplotlib.pyplot as plt\n",
        "import random as rd\n",
        "import time\n",
        "\n",
        "# create numpy array out of \n",
        "dataset = np.loadtxt('hw2-image.txt')\n"
      ],
      "execution_count": 0,
      "outputs": []
    },
    {
      "cell_type": "code",
      "metadata": {
        "id": "6W4LFchqEvuv",
        "colab_type": "code",
        "colab": {
          "base_uri": "https://localhost:8080/",
          "height": 1000
        },
        "outputId": "e9256abf-1d3d-41c0-b759-80898f4d669d"
      },
      "source": [
        "# print(dataset.shape)\n",
        "\n",
        "start_time = time.time()\n",
        "\n",
        "\n",
        "# initialize important points\n",
        "\n",
        "num_datapoints, num_features = dataset.shape # important for crafting matrices\n",
        "\n",
        "# number clusters\n",
        "k = 8\n",
        "\n",
        "iterations = 0 # number of iterations of the while loop\n",
        "\n",
        "# create given centroids\n",
        "curr_centroids = (np.array([255,255,255,255,0,0,128,0,0,0,255,0,0,128,0,0,0,255,0,0,128,0,0,0])).reshape(k, num_features)\n",
        "\n",
        "# keep track of old centroids and to compare it to the current to see if there was any change in coordinates\n",
        "prev_centroids = np.zeros((k, num_features))\n",
        "\n",
        "# if check is equals 0, means there was no change \n",
        "check = np.linalg.norm(curr_centroids - prev_centroids)\n",
        "\n",
        "# an array to keep track of the number of pixels in each cluster\n",
        "pixels_in_each_cluster = []\n",
        "\n",
        "# check number clusters left\n",
        "clusters_left = 0\n",
        "\n",
        "# takes the current cluster map\n",
        "global_cluster_map = []\n",
        "\n",
        "# append the sum of each iteration's euclidean distance total (the cost)\n",
        "at_all_costs = []\n",
        "\n",
        "# where our kmeans begins\n",
        "while check > 0:\n",
        "  iterations += 1\n",
        "  \n",
        "  # do a check\n",
        "  check = np.linalg.norm(curr_centroids - prev_centroids)\n",
        "  \n",
        "  ## get our Euclidean matrix which will be num datapoints X clusters ##  \n",
        "  # initialize temp euclidean mat\n",
        "  temp_euc_mat = np.zeros((k,num_datapoints))\n",
        "  \n",
        "  # loop through each centroid and calculate the euclidean distances between each point and that centroid\n",
        "  for index_c, centroid in enumerate(curr_centroids):\n",
        "    e_distances = np.linalg.norm(dataset - centroid, axis=1) # array of each datapoint's euc dist wrt centroid\n",
        "    temp_euc_mat[index_c, :] = e_distances # store into temp array\n",
        "\n",
        "  # euclidean matrix is the transpose of our temp\n",
        "  euclidean_matrix = np.transpose(temp_euc_mat)\n",
        "  \n",
        "  # taking argmin of each row, we find the index of the cluster that each datapoint belongs to\n",
        "  cluster_map = np.argmin(euclidean_matrix, axis=1)\n",
        "  \n",
        "  # store it in global variable\n",
        "  global_cluster_map = cluster_map\n",
        "  \n",
        "  # to find the total sum of euclidean distances aka cost\n",
        "  min_map = np.min(euclidean_matrix, axis=1) # first use min to find each min euclidean distance\n",
        "  the_cost = np.sum(min_map, axis=0) # then sum them all up\n",
        "  \n",
        "  # append to global cost array\n",
        "  at_all_costs.append(the_cost)\n",
        "  \n",
        "  ## getting our new centroid ##\n",
        "  \n",
        "  # instantiate new centroids\n",
        "  new_centroids = np.zeros((k, num_features))\n",
        "  \n",
        "  # cluster map length\n",
        "  cluster_map_length = len(cluster_map)\n",
        "  \n",
        "  # some clusters might be empty, so we will delete them accordingly. we store their indexes first\n",
        "  deletable_clusters = []\n",
        "  \n",
        "  temp_pixel_cluster_count = []\n",
        "  \n",
        "  # iterate through each cluster \n",
        "  for cluster_index in range(k):\n",
        "      \n",
        "    # using cluster map array, check if the datapoint belongs to this specific cluster and assign 1 or 0. \n",
        "    cluster_dpoint_indexes = cluster_map == cluster_index # numpy array of size num_datapoints X 1\n",
        "    \n",
        "    # if length of the cluster dpoint indexes is 0, we will store the index of this cluster and remove it later on\n",
        "    len_cluster = np.sum(cluster_dpoint_indexes) # sums up the ones\n",
        "    \n",
        "    # store the length of the cluster to count number of pixels\n",
        "    temp_pixel_cluster_count.append(len_cluster)\n",
        "    \n",
        "    if len_cluster == 0:\n",
        "      deletable_clusters.append(cluster_index)\n",
        "    \n",
        "    # using the mean of the datapoints gathered, create the new centroid and append to new_centroids\n",
        "    new_centroid = np.mean(dataset[cluster_dpoint_indexes], axis=0)\n",
        "    new_centroids[cluster_index, :] = new_centroid\n",
        "    \n",
        "  \n",
        "  \n",
        "  # update our previous and current centroids\n",
        "  prev_centroids = curr_centroids\n",
        "  curr_centroids = new_centroids\n",
        "  \n",
        "  \n",
        "  # check if there are deletables, then start deleting\n",
        "  if len(deletable_clusters) > 0:\n",
        "    curr_centroids = np.delete(curr_centroids, deletable_clusters, axis=0)\n",
        "    prev_centroids = np.delete(prev_centroids, deletable_clusters, axis=0)\n",
        "    k -= len(deletable_clusters)\n",
        "  \n",
        "  # update pixel count\n",
        "  pixels_in_each_cluster = temp_pixel_cluster_count\n",
        "  \n",
        "  # update clusters left\n",
        "  clusters_left = len(curr_centroids)\n",
        "  \n",
        "  print(\"iteration number: \" + str(iterations))\n",
        "  print(\"number of clusters left: \" + str(clusters_left))\n",
        "  print(\"new centroids: \")\n",
        "  print(curr_centroids)\n",
        "\n",
        "  print(\"time elapsed:\")\n",
        "  print(\"--- %s seconds ---\" % (time.time() - start_time))\n",
        "  \n",
        "  \n",
        "  \n"
      ],
      "execution_count": 19,
      "outputs": [
        {
          "output_type": "stream",
          "text": [
            "/usr/local/lib/python3.6/dist-packages/numpy/core/fromnumeric.py:3118: RuntimeWarning: Mean of empty slice.\n",
            "  out=out, **kwargs)\n",
            "/usr/local/lib/python3.6/dist-packages/numpy/core/_methods.py:78: RuntimeWarning: invalid value encountered in true_divide\n",
            "  ret, rcount, out=ret, casting='unsafe', subok=False)\n"
          ],
          "name": "stderr"
        },
        {
          "output_type": "stream",
          "text": [
            "iteration number: 1\n",
            "number of clusters left: 6\n",
            "new centroids: \n",
            "[[226.2480551  208.85269736 194.33031501]\n",
            " [203.59562026 135.48836631  77.5030484 ]\n",
            " [127.34619478  64.4117936   21.9861835 ]\n",
            " [ 92.93181818  94.45454545  89.30113636]\n",
            " [ 56.16536313  56.91284916  79.27039106]\n",
            " [ 29.20886167  23.7493684   22.21048579]]\n",
            "time elapsed:\n",
            "--- 0.09343576431274414 seconds ---\n",
            "iteration number: 2\n",
            "number of clusters left: 6\n",
            "new centroids: \n",
            "[[235.90366054 231.99927154 226.03988345]\n",
            " [189.74227327 125.89648492  74.8227235 ]\n",
            " [129.9375122   61.3082561   14.90686585]\n",
            " [114.89179394 102.59228579  93.03986539]\n",
            " [ 55.73290027  50.30683989  57.78945357]\n",
            " [ 34.46545786  24.28230345  20.13988534]]\n",
            "time elapsed:\n",
            "--- 0.16414189338684082 seconds ---\n",
            "iteration number: 3\n",
            "number of clusters left: 6\n",
            "new centroids: \n",
            "[[239.33307423 236.21609017 230.92324135]\n",
            " [186.91215592 122.41490858  71.43122363]\n",
            " [130.28521915  60.18096139  12.75239949]\n",
            " [122.11700535 104.7713369   92.2057754 ]\n",
            " [ 63.41741742  46.81812247  44.46624886]\n",
            " [ 34.46358131  24.01898932  19.45896082]]\n",
            "time elapsed:\n",
            "--- 0.23932981491088867 seconds ---\n",
            "iteration number: 4\n",
            "number of clusters left: 6\n",
            "new centroids: \n",
            "[[239.49015786 236.39543949 231.12356266]\n",
            " [186.03093743 120.92222998  69.67139645]\n",
            " [131.94352302  60.44450958  11.98229911]\n",
            " [124.77309783 105.74378882  92.12189441]\n",
            " [ 73.71823536  42.86518812  26.62615699]\n",
            " [ 31.83040855  23.2631844   20.12436325]]\n",
            "time elapsed:\n",
            "--- 0.3204805850982666 seconds ---\n",
            "iteration number: 5\n",
            "number of clusters left: 6\n",
            "new centroids: \n",
            "[[239.42089901 236.30433937 231.00934034]\n",
            " [185.85515406 120.50094482  69.11341637]\n",
            " [136.03831929  62.43358847  12.24580305]\n",
            " [124.43281106 105.71981567  92.30082949]\n",
            " [ 78.37889226  38.01083861  14.84945348]\n",
            " [ 27.46572939  23.0460543   22.50030508]]\n",
            "time elapsed:\n",
            "--- 0.3950185775756836 seconds ---\n",
            "iteration number: 6\n",
            "number of clusters left: 6\n",
            "new centroids: \n",
            "[[239.33702409 236.19794095 230.88422688]\n",
            " [186.17517819 120.87397196  69.53450302]\n",
            " [138.16676272  63.81264196  12.87313964]\n",
            " [122.56818598 105.28226249  92.84697053]\n",
            " [ 79.44224777  37.02291188  12.6001788 ]\n",
            " [ 26.26324895  23.21853334  23.40925478]]\n",
            "time elapsed:\n",
            "--- 0.4684455394744873 seconds ---\n",
            "iteration number: 7\n",
            "number of clusters left: 6\n",
            "new centroids: \n",
            "[[239.36916796 236.24591757 230.94109642]\n",
            " [186.48269704 121.35903643  70.13870148]\n",
            " [138.83944688  64.33512238  13.20572952]\n",
            " [121.20294721 104.89852639  93.10856184]\n",
            " [ 79.91344729  37.01217765  12.23722952]\n",
            " [ 26.12081624  23.25790948  23.5550776 ]]\n",
            "time elapsed:\n",
            "--- 0.5456876754760742 seconds ---\n",
            "iteration number: 8\n",
            "number of clusters left: 6\n",
            "new centroids: \n",
            "[[239.42604126 236.31432464 231.02588556]\n",
            " [186.66118579 121.70419267  70.58961434]\n",
            " [139.20419782  64.62780369  13.40136498]\n",
            " [120.36515152 104.55984848  93.09242424]\n",
            " [ 80.3699187   37.13338721  12.1184739 ]\n",
            " [ 26.16573443  23.27619755  23.55700766]]\n",
            "time elapsed:\n",
            "--- 0.620215892791748 seconds ---\n",
            "iteration number: 9\n",
            "number of clusters left: 6\n",
            "new centroids: \n",
            "[[239.42604126 236.31432464 231.02588556]\n",
            " [186.87839147 122.04784399  71.02079296]\n",
            " [139.40083529  64.8126594   13.53566232]\n",
            " [119.80125642 104.07919284  92.71578146]\n",
            " [ 80.7047427   37.25365722  12.09033019]\n",
            " [ 26.2759877   23.28665338  23.50976147]]\n",
            "time elapsed:\n",
            "--- 0.6934363842010498 seconds ---\n",
            "iteration number: 10\n",
            "number of clusters left: 6\n",
            "new centroids: \n",
            "[[239.46396572 236.36131671 231.08083366]\n",
            " [186.9711067  122.23171374  71.26940066]\n",
            " [139.60359726  64.94633317  13.59129718]\n",
            " [119.54640349 103.60030366  92.14006453]\n",
            " [ 81.06496087  37.38647793  12.05468194]\n",
            " [ 26.34745517  23.29511046  23.48067353]]\n",
            "time elapsed:\n",
            "--- 0.7693450450897217 seconds ---\n",
            "iteration number: 11\n",
            "number of clusters left: 6\n",
            "new centroids: \n",
            "[[239.49015786 236.39543949 231.12356266]\n",
            " [187.05426073 122.38092333  71.47911328]\n",
            " [139.72271711  65.02369733  13.61974205]\n",
            " [119.44368987 103.24919826  91.63912469]\n",
            " [ 81.2605601   37.45519476  12.02640944]\n",
            " [ 26.39879372  23.30448608  23.46449502]]\n",
            "time elapsed:\n",
            "--- 0.8446750640869141 seconds ---\n",
            "iteration number: 12\n",
            "number of clusters left: 6\n",
            "new centroids: \n",
            "[[239.50350877 236.40818713 231.13528265]\n",
            " [187.13879367 122.51922135  71.65609696]\n",
            " [139.8582855   65.1056179   13.64423989]\n",
            " [119.40869077 102.87787975  91.05450459]\n",
            " [ 81.57583358  37.58751352  12.03715452]\n",
            " [ 26.48939235  23.3104505   23.41402567]]\n",
            "time elapsed:\n",
            "--- 0.9175727367401123 seconds ---\n",
            "iteration number: 13\n",
            "number of clusters left: 6\n",
            "new centroids: \n",
            "[[239.52418097 236.43116225 231.1624415 ]\n",
            " [187.15987422 122.60486769  71.77331754]\n",
            " [139.90323583  65.1158685   13.62604194]\n",
            " [119.26034515 102.35980701  90.35089998]\n",
            " [ 81.74416194  37.64078005  12.0077018 ]\n",
            " [ 26.55849619  23.32187271  23.39302696]]\n",
            "time elapsed:\n",
            "--- 0.9929618835449219 seconds ---\n",
            "iteration number: 14\n",
            "number of clusters left: 6\n",
            "new centroids: \n",
            "[[239.55698673 236.47599532 231.22033568]\n",
            " [187.18255006 122.71536575  71.93955864]\n",
            " [139.98135109  65.15614566  13.62312949]\n",
            " [119.16982172 101.78919316  89.49402683]\n",
            " [ 81.91669341  37.6790413   11.96815837]\n",
            " [ 26.59618571  23.33009823  23.37939446]]\n",
            "time elapsed:\n",
            "--- 1.069753885269165 seconds ---\n",
            "iteration number: 15\n",
            "number of clusters left: 6\n",
            "new centroids: \n",
            "[[239.56373219 236.48565294 231.23638493]\n",
            " [187.26653824 122.87212067  72.12251004]\n",
            " [140.04723496  65.19060147  13.62973605]\n",
            " [119.12688602 101.25268133  88.66187966]\n",
            " [ 81.96384175  37.6882646   11.9519781 ]\n",
            " [ 26.60064431  23.3324986   23.38075674]]\n",
            "time elapsed:\n",
            "--- 1.1429383754730225 seconds ---\n",
            "iteration number: 16\n",
            "number of clusters left: 6\n",
            "new centroids: \n",
            "[[239.56373219 236.48565294 231.23638493]\n",
            " [187.34595128 123.03949967  72.34508723]\n",
            " [140.10103649  65.21612362  13.62156737]\n",
            " [119.26899642 100.74157706  87.75681004]\n",
            " [ 81.97707871  37.6893659   11.94236368]\n",
            " [ 26.60565437  23.33245527  23.37975327]]\n",
            "time elapsed:\n",
            "--- 1.2183983325958252 seconds ---\n",
            "iteration number: 17\n",
            "number of clusters left: 6\n",
            "new centroids: \n",
            "[[239.57126123 236.4957048  231.25185474]\n",
            " [187.41593103 123.17853312  72.51695405]\n",
            " [140.13999342  65.22798484  13.60766528]\n",
            " [119.41485411 100.24226348  86.87763042]\n",
            " [ 81.98956612  37.69255815  11.9379887 ]\n",
            " [ 26.60601161  23.3327639   23.37993089]]\n",
            "time elapsed:\n",
            "--- 1.2925567626953125 seconds ---\n",
            "iteration number: 18\n",
            "number of clusters left: 6\n",
            "new centroids: \n",
            "[[239.57126123 236.4957048  231.25185474]\n",
            " [187.47837413 123.31082534  72.67908535]\n",
            " [140.16843674  65.22224917  13.57570297]\n",
            " [119.62714509  99.65903969  85.79701855]\n",
            " [ 81.99671864  37.68375604  11.91794138]\n",
            " [ 26.60638187  23.33298125  23.38005633]]\n",
            "time elapsed:\n",
            "--- 1.3695456981658936 seconds ---\n",
            "iteration number: 19\n",
            "number of clusters left: 6\n",
            "new centroids: \n",
            "[[239.57126123 236.4957048  231.25185474]\n",
            " [187.53466783 123.44253802  72.84756931]\n",
            " [140.19184877  65.21044051  13.53204995]\n",
            " [119.9266678   99.07027669  84.67883212]\n",
            " [ 82.00091304  37.6774504   11.9047478 ]\n",
            " [ 26.60638187  23.33298125  23.38005633]]\n",
            "time elapsed:\n",
            "--- 1.4455926418304443 seconds ---\n",
            "iteration number: 20\n",
            "number of clusters left: 6\n",
            "new centroids: \n",
            "[[239.57126123 236.4957048  231.25185474]\n",
            " [187.56953148 123.55782878  73.00273893]\n",
            " [140.20517634  65.17063844  13.44749787]\n",
            " [120.33783561  98.30209191  83.20490858]\n",
            " [ 81.99861752  37.66415681  11.88676031]\n",
            " [ 26.60555005  23.3320771   23.37856658]]\n",
            "time elapsed:\n",
            "--- 1.5195581912994385 seconds ---\n",
            "iteration number: 21\n",
            "number of clusters left: 6\n",
            "new centroids: \n",
            "[[239.60902696 236.54298554 231.30578351]\n",
            " [187.65358362 123.76000999  73.24860568]\n",
            " [140.21116247  65.10689806  13.31983954]\n",
            " [121.33490789  97.37694851  81.16863486]\n",
            " [ 81.99703682  37.65755488  11.87660814]\n",
            " [ 26.6059464   23.33232053  23.37884854]]\n",
            "time elapsed:\n",
            "--- 1.59443998336792 seconds ---\n",
            "iteration number: 22\n",
            "number of clusters left: 6\n",
            "new centroids: \n",
            "[[239.66184236 236.6012126  231.37199296]\n",
            " [187.84559933 124.07640402  73.58704946]\n",
            " [140.18537442  64.95902028  13.06578878]\n",
            " [123.52246785  96.31166016  78.05765063]\n",
            " [ 81.98307848  37.64304241  11.87060596]\n",
            " [ 26.60466602  23.33455048  23.38147153]]\n",
            "time elapsed:\n",
            "--- 1.6712877750396729 seconds ---\n",
            "iteration number: 23\n",
            "number of clusters left: 6\n",
            "new centroids: \n",
            "[[239.72321254 236.69245837 231.48697356]\n",
            " [188.40138467 124.76003248  74.17274242]\n",
            " [140.11888087  64.69334139  12.63391873]\n",
            " [127.50598544  95.07922991  73.52388004]\n",
            " [ 81.97432412  37.6329017   11.85919043]\n",
            " [ 26.60433484  23.33451572  23.38176341]]\n",
            "time elapsed:\n",
            "--- 1.743870496749878 seconds ---\n",
            "iteration number: 24\n",
            "number of clusters left: 6\n",
            "new centroids: \n",
            "[[239.80549558 236.80255152 231.63120707]\n",
            " [189.65637499 126.44456429  75.71965305]\n",
            " [139.83894112  64.07560018  11.71359197]\n",
            " [134.74786325  93.65932739  66.4835563 ]\n",
            " [ 81.92209173  37.64109284  11.90270738]\n",
            " [ 26.60473123  23.33501995  23.3825148 ]]\n",
            "time elapsed:\n",
            "--- 1.8172285556793213 seconds ---\n",
            "iteration number: 25\n",
            "number of clusters left: 6\n",
            "new centroids: \n",
            "[[239.92107853 236.96063767 231.82798662]\n",
            " [191.49176067 129.25836194  78.55703776]\n",
            " [139.47805154  63.32177853  10.58210139]\n",
            " [141.38138221  92.71384276  60.41411149]\n",
            " [ 81.77674062  37.67403684  12.05410023]\n",
            " [ 26.60217802  23.33405934  23.38252364]]\n",
            "time elapsed:\n",
            "--- 1.896294116973877 seconds ---\n",
            "iteration number: 26\n",
            "number of clusters left: 6\n",
            "new centroids: \n",
            "[[240.2239604  237.31306931 232.2429703 ]\n",
            " [192.77718171 131.60992192  81.56790779]\n",
            " [139.10047433  62.76283295  10.06911451]\n",
            " [145.83731553  93.37614195  57.12614195]\n",
            " [ 81.59157863  37.74666468  12.30025294]\n",
            " [ 26.59658231  23.33060266  23.3801461 ]]\n",
            "time elapsed:\n",
            "--- 1.968827486038208 seconds ---\n",
            "iteration number: 27\n",
            "number of clusters left: 6\n",
            "new centroids: \n",
            "[[240.46593625 237.64900398 232.6561753 ]\n",
            " [193.47511822 133.12851835  84.00185769]\n",
            " [138.42863784  62.20484658   9.88224469]\n",
            " [149.32938741  94.3908589   54.90566939]\n",
            " [ 81.33227903  37.74681842  12.47988942]\n",
            " [ 26.57939253  23.32173391  23.37646352]]\n",
            "time elapsed:\n",
            "--- 2.0407187938690186 seconds ---\n",
            "iteration number: 28\n",
            "number of clusters left: 6\n",
            "new centroids: \n",
            "[[240.66333066 237.90972778 232.98518815]\n",
            " [193.81395485 134.08478452  85.8348285 ]\n",
            " [137.70632304  61.71354157   9.8276333 ]\n",
            " [152.05937003  95.16732909  53.10403418]\n",
            " [ 81.08865124  37.7445405   12.64971766]\n",
            " [ 26.55844241  23.31534603  23.38056797]]\n",
            "time elapsed:\n",
            "--- 2.116426467895508 seconds ---\n",
            "iteration number: 29\n",
            "number of clusters left: 6\n",
            "new centroids: \n",
            "[[240.86725664 238.16874497 233.31074014]\n",
            " [194.01202186 134.85798421  87.44875531]\n",
            " [137.15430631  61.38955573   9.83620421]\n",
            " [153.97280693  95.79693304  52.06110106]\n",
            " [ 80.64368018  37.66577326  12.81704323]\n",
            " [ 26.47835713  23.30213546  23.40765099]]\n",
            "time elapsed:\n",
            "--- 2.194840669631958 seconds ---\n",
            "iteration number: 30\n",
            "number of clusters left: 6\n",
            "new centroids: \n",
            "[[240.98245968 238.30100806 233.46572581]\n",
            " [194.07943518 135.33901468  88.56805175]\n",
            " [136.86991001  61.25020894   9.86946296]\n",
            " [155.12801043  96.25383146  51.56314343]\n",
            " [ 80.2949885   37.58842653  12.9286536 ]\n",
            " [ 26.38706751  23.28550584  23.44071406]]\n",
            "time elapsed:\n",
            "--- 2.2698700428009033 seconds ---\n",
            "iteration number: 31\n",
            "number of clusters left: 6\n",
            "new centroids: \n",
            "[[241.10533765 238.4569349  233.64678528]\n",
            " [194.10966437 135.63997219  89.37405979]\n",
            " [136.67830776  61.18215376   9.9248966 ]\n",
            " [155.86927018  96.6454323   51.39246642]\n",
            " [ 80.006762    37.51646673  13.00558491]\n",
            " [ 26.32937255  23.27735111  23.4604998 ]]\n",
            "time elapsed:\n",
            "--- 2.3460617065429688 seconds ---\n",
            "iteration number: 32\n",
            "number of clusters left: 6\n",
            "new centroids: \n",
            "[[241.15121457 238.51761134 233.73036437]\n",
            " [194.16711384 135.8424045   89.8158937 ]\n",
            " [136.54311789  61.13922101   9.97187085]\n",
            " [156.3316809   96.89406041  51.32663178]\n",
            " [ 79.73050301  37.42929608  13.04115545]\n",
            " [ 26.24588366  23.26566588  23.49594312]]\n",
            "time elapsed:\n",
            "--- 2.421156406402588 seconds ---\n",
            "iteration number: 33\n",
            "number of clusters left: 6\n",
            "new centroids: \n",
            "[[241.16828676 238.53665452 233.75840421]\n",
            " [194.24898354 135.98657631  90.21000323]\n",
            " [136.42367942  61.10570415  10.00822548]\n",
            " [156.64884974  97.12616396  51.32207413]\n",
            " [ 79.54071922  37.35870981  13.06087849]\n",
            " [ 26.21405324  23.25975074  23.50590072]]\n",
            "time elapsed:\n",
            "--- 2.496063709259033 seconds ---\n",
            "iteration number: 34\n",
            "number of clusters left: 6\n",
            "new centroids: \n",
            "[[241.16828676 238.53665452 233.75840421]\n",
            " [194.27677122 136.07695305  90.44989934]\n",
            " [136.33539079  61.07638066  10.02446016]\n",
            " [156.85108997  97.2630046   51.32685569]\n",
            " [ 79.25184076  37.24400349  13.0766754 ]\n",
            " [ 26.11573957  23.24984397  23.54660257]]\n",
            "time elapsed:\n",
            "--- 2.5731208324432373 seconds ---\n",
            "iteration number: 35\n",
            "number of clusters left: 6\n",
            "new centroids: \n",
            "[[241.17622038 238.54810614 233.77111606]\n",
            " [194.30728079 136.15540188  90.61932411]\n",
            " [136.29508165  61.07102793  10.04969857]\n",
            " [157.01303775  97.36932722  51.33934493]\n",
            " [ 79.09910897  37.18166658  13.06839564]\n",
            " [ 26.05743945  23.24474315  23.57681661]]\n",
            "time elapsed:\n",
            "--- 2.6465766429901123 seconds ---\n",
            "iteration number: 36\n",
            "number of clusters left: 6\n",
            "new centroids: \n",
            "[[241.18929874 238.5804621  233.81414674]\n",
            " [194.32499837 136.18228113  90.65613371]\n",
            " [136.28398734  61.07607825  10.06660184]\n",
            " [157.06025356  97.39982733  51.3538874 ]\n",
            " [ 79.00124051  37.13404952  13.05604625]\n",
            " [ 26.00859977  23.2424202   23.60082398]]\n",
            "time elapsed:\n",
            "--- 2.7238962650299072 seconds ---\n",
            "iteration number: 37\n",
            "number of clusters left: 6\n",
            "new centroids: \n",
            "[[241.2002838  238.59274275 233.82525846]\n",
            " [194.32712662 136.19482556  90.69404155]\n",
            " [136.27470853  61.08113617  10.08351749]\n",
            " [157.10295121  97.44140785  51.37015143]\n",
            " [ 78.93806822  37.11063492  13.06522655]\n",
            " [ 25.9801663   23.23666965  23.60624908]]\n",
            "time elapsed:\n",
            "--- 2.800747871398926 seconds ---\n",
            "iteration number: 38\n",
            "number of clusters left: 6\n",
            "new centroids: \n",
            "[[241.2002838  238.59274275 233.82525846]\n",
            " [194.3332679  136.21489334  90.75709986]\n",
            " [136.26662477  61.08295247  10.09136959]\n",
            " [157.15806217  97.47982185  51.36997819]\n",
            " [ 78.92867053  37.10683316  13.06753877]\n",
            " [ 25.97872369  23.23620176  23.6062681 ]]\n",
            "time elapsed:\n",
            "--- 2.876868963241577 seconds ---\n",
            "iteration number: 39\n",
            "number of clusters left: 6\n",
            "new centroids: \n",
            "[[241.2002838  238.59274275 233.82525846]\n",
            " [194.35066212 136.24754163  90.81198374]\n",
            " [136.26661462  61.08352058  10.09247058]\n",
            " [157.20115308  97.51016888  51.38151444]\n",
            " [ 78.92800872  37.10900263  13.07137195]\n",
            " [ 25.97800232  23.23575423  23.60599063]]\n",
            "time elapsed:\n",
            "--- 2.951284646987915 seconds ---\n",
            "iteration number: 40\n",
            "number of clusters left: 6\n",
            "new centroids: \n",
            "[[241.2002838  238.59274275 233.82525846]\n",
            " [194.36554622 136.26621586  90.86095063]\n",
            " [136.26703226  61.08503751  10.09412011]\n",
            " [157.23074481  97.53891862  51.3905924 ]\n",
            " [ 78.92800872  37.10900263  13.07137195]\n",
            " [ 25.97800232  23.23575423  23.60599063]]\n",
            "time elapsed:\n",
            "--- 3.0287668704986572 seconds ---\n",
            "iteration number: 41\n",
            "number of clusters left: 6\n",
            "new centroids: \n",
            "[[241.20924574 238.60279805 233.83860503]\n",
            " [194.38632928 136.29438055  90.8889254 ]\n",
            " [136.26744717  61.08867314  10.10030459]\n",
            " [157.25725558  97.56466534  51.41474696]\n",
            " [ 78.92800872  37.10900263  13.07137195]\n",
            " [ 25.97800232  23.23575423  23.60599063]]\n",
            "time elapsed:\n",
            "--- 3.101975917816162 seconds ---\n",
            "iteration number: 42\n",
            "number of clusters left: 6\n",
            "new centroids: \n",
            "[[241.20924574 238.60279805 233.83860503]\n",
            " [194.39130721 136.300697    90.90393214]\n",
            " [136.26620855  61.08963719  10.10328549]\n",
            " [157.27236454  97.57692133  51.41732034]\n",
            " [ 78.92800872  37.10900263  13.07137195]\n",
            " [ 25.97800232  23.23575423  23.60599063]]\n",
            "time elapsed:\n",
            "--- 3.1773159503936768 seconds ---\n",
            "iteration number: 43\n",
            "number of clusters left: 6\n",
            "new centroids: \n",
            "[[241.20924574 238.60279805 233.83860503]\n",
            " [194.39878955 136.31076903  90.91290047]\n",
            " [136.2655563   61.08973066  10.10385457]\n",
            " [157.27898649  97.58226815  51.42366966]\n",
            " [ 78.92743714  37.10828688  13.07070482]\n",
            " [ 25.97800232  23.23575423  23.60599063]]\n",
            "time elapsed:\n",
            "--- 3.2561538219451904 seconds ---\n",
            "iteration number: 44\n",
            "number of clusters left: 6\n",
            "new centroids: \n",
            "[[241.20924574 238.60279805 233.83860503]\n",
            " [194.40896524 136.32319642  90.92443391]\n",
            " [136.2655563   61.08973066  10.10385457]\n",
            " [157.28711884  97.58950659  51.43183363]\n",
            " [ 78.92743714  37.10828688  13.07070482]\n",
            " [ 25.97800232  23.23575423  23.60599063]]\n",
            "time elapsed:\n",
            "--- 3.3292994499206543 seconds ---\n",
            "iteration number: 45\n",
            "number of clusters left: 6\n",
            "new centroids: \n",
            "[[241.21841411 238.61387143 233.85114581]\n",
            " [194.41149365 136.32874728  90.93252584]\n",
            " [136.2655563   61.08973066  10.10385457]\n",
            " [157.28881439  97.59135596  51.43351606]\n",
            " [ 78.92743714  37.10828688  13.07070482]\n",
            " [ 25.97800232  23.23575423  23.60599063]]\n",
            "time elapsed:\n",
            "--- 3.4053938388824463 seconds ---\n",
            "iteration number: 46\n",
            "number of clusters left: 6\n",
            "new centroids: \n",
            "[[241.2296146  238.62515213 233.86288032]\n",
            " [194.4120861  136.33328945  90.93930617]\n",
            " [136.2655563   61.08973066  10.10385457]\n",
            " [157.28970735  97.5920993   51.43449307]\n",
            " [ 78.92743714  37.10828688  13.07070482]\n",
            " [ 25.97800232  23.23575423  23.60599063]]\n",
            "time elapsed:\n",
            "--- 3.481879949569702 seconds ---\n",
            "iteration number: 47\n",
            "number of clusters left: 6\n",
            "new centroids: \n",
            "[[241.2296146  238.62515213 233.86288032]\n",
            " [194.41158657 136.33311389  90.94364714]\n",
            " [136.2655563   61.08973066  10.10385457]\n",
            " [157.29173273  97.59397508  51.43329558]\n",
            " [ 78.92743714  37.10828688  13.07070482]\n",
            " [ 25.97800232  23.23575423  23.60599063]]\n",
            "time elapsed:\n",
            "--- 3.554997682571411 seconds ---\n",
            "iteration number: 48\n",
            "number of clusters left: 6\n",
            "new centroids: \n",
            "[[241.2296146  238.62515213 233.86288032]\n",
            " [194.41158657 136.33311389  90.94364714]\n",
            " [136.2655563   61.08973066  10.10385457]\n",
            " [157.29173273  97.59397508  51.43329558]\n",
            " [ 78.92743714  37.10828688  13.07070482]\n",
            " [ 25.97800232  23.23575423  23.60599063]]\n",
            "time elapsed:\n",
            "--- 3.629132032394409 seconds ---\n",
            "iteration number: 49\n",
            "number of clusters left: 6\n",
            "new centroids: \n",
            "[[241.2296146  238.62515213 233.86288032]\n",
            " [194.41158657 136.33311389  90.94364714]\n",
            " [136.2655563   61.08973066  10.10385457]\n",
            " [157.29173273  97.59397508  51.43329558]\n",
            " [ 78.92743714  37.10828688  13.07070482]\n",
            " [ 25.97800232  23.23575423  23.60599063]]\n",
            "time elapsed:\n",
            "--- 3.7066686153411865 seconds ---\n"
          ],
          "name": "stdout"
        }
      ]
    },
    {
      "cell_type": "markdown",
      "metadata": {
        "id": "v_MobyL0uJw5",
        "colab_type": "text"
      },
      "source": [
        "## a) How many clusters are there in the end"
      ]
    },
    {
      "cell_type": "code",
      "metadata": {
        "id": "HdBNWLY638zL",
        "colab_type": "code",
        "colab": {
          "base_uri": "https://localhost:8080/",
          "height": 34
        },
        "outputId": "2da547c8-120d-4101-9169-8468a2e5aee4"
      },
      "source": [
        "print(\"Number of clusters left is \" + str(clusters_left))"
      ],
      "execution_count": 20,
      "outputs": [
        {
          "output_type": "stream",
          "text": [
            "Number of clusters left is 6\n"
          ],
          "name": "stdout"
        }
      ]
    },
    {
      "cell_type": "markdown",
      "metadata": {
        "id": "WDUUqJd1wPm9",
        "colab_type": "text"
      },
      "source": [
        "## b) The final centroids of each cluster"
      ]
    },
    {
      "cell_type": "code",
      "metadata": {
        "id": "D2ldtVv3wZOx",
        "colab_type": "code",
        "colab": {
          "base_uri": "https://localhost:8080/",
          "height": 151
        },
        "outputId": "dd6d9605-0889-4ea9-fa6c-75fb396bb585"
      },
      "source": [
        "final_centroids = pd.DataFrame(curr_centroids)\n",
        "headers = ['R', 'G', 'B']\n",
        "final_centroids.columns = headers\n",
        "print(\"The final centroids are\")\n",
        "print(final_centroids)"
      ],
      "execution_count": 21,
      "outputs": [
        {
          "output_type": "stream",
          "text": [
            "The final centroids are\n",
            "            R           G           B\n",
            "0  241.229615  238.625152  233.862880\n",
            "1  194.411587  136.333114   90.943647\n",
            "2  136.265556   61.089731   10.103855\n",
            "3  157.291733   97.593975   51.433296\n",
            "4   78.927437   37.108287   13.070705\n",
            "5   25.978002   23.235754   23.605991\n"
          ],
          "name": "stdout"
        }
      ]
    },
    {
      "cell_type": "markdown",
      "metadata": {
        "id": "t_xbRJISycrS",
        "colab_type": "text"
      },
      "source": [
        "## c) The number of pixels associated to each cluster"
      ]
    },
    {
      "cell_type": "code",
      "metadata": {
        "id": "26qY5cTnyiXN",
        "colab_type": "code",
        "colab": {
          "base_uri": "https://localhost:8080/",
          "height": 134
        },
        "outputId": "d20e6827-5ca4-44db-b002-604aec6fe868"
      },
      "source": [
        "print(\"The number of pixels in each cluster\")\n",
        "for i in range(len(pixels_in_each_cluster)):\n",
        "  print(\"Pixels in Centroid \"+ str(i) + \": \" + str(pixels_in_each_cluster[i]))"
      ],
      "execution_count": 22,
      "outputs": [
        {
          "output_type": "stream",
          "text": [
            "The number of pixels in each cluster\n",
            "Pixels in Centroid 0: 4930\n",
            "Pixels in Centroid 1: 15190\n",
            "Pixels in Centroid 2: 52535\n",
            "Pixels in Centroid 3: 22075\n",
            "Pixels in Centroid 4: 40365\n",
            "Pixels in Centroid 5: 74917\n"
          ],
          "name": "stdout"
        }
      ]
    },
    {
      "cell_type": "markdown",
      "metadata": {
        "id": "n9wNxXC47I1Z",
        "colab_type": "text"
      },
      "source": [
        "## d) Plot the sum of squareed Euclidean distance of each pixel to their nearest centroid against the iteration number of the algorithm"
      ]
    },
    {
      "cell_type": "code",
      "metadata": {
        "id": "-YzoVy0R7S4f",
        "colab_type": "code",
        "colab": {
          "base_uri": "https://localhost:8080/",
          "height": 307
        },
        "outputId": "af46be8c-0487-4ff7-de4b-d336764a2c7e"
      },
      "source": [
        "x = range(iterations)\n",
        "y = at_all_costs\n",
        "\n",
        "plt.plot(x,y)\n",
        "plt.xlabel('Iterations')\n",
        "plt.ylabel('Sum of squared Euclidean Distances(Aka Cost)')"
      ],
      "execution_count": 23,
      "outputs": [
        {
          "output_type": "execute_result",
          "data": {
            "text/plain": [
              "Text(0, 0.5, 'Sum of squared Euclidean Distances(Aka Cost)')"
            ]
          },
          "metadata": {
            "tags": []
          },
          "execution_count": 23
        },
        {
          "output_type": "display_data",
          "data": {
            "image/png": "[encoded data removed]",
            "text/plain": [
              "<Figure size 432x288 with 1 Axes>"
            ]
          },
          "metadata": {
            "tags": []
          }
        }
      ]
    },
    {
      "cell_type": "markdown",
      "metadata": {
        "id": "7JudtFe2IP52",
        "colab_type": "text"
      },
      "source": [
        "## Original Obama"
      ]
    },
    {
      "cell_type": "code",
      "metadata": {
        "id": "KYgXuJG2EE5u",
        "colab_type": "code",
        "colab": {
          "base_uri": "https://localhost:8080/",
          "height": 286
        },
        "outputId": "a29a90b9-9311-410f-ec71-b5aabcb5b908"
      },
      "source": [
        "\n",
        "# reshape into m x n x 3\n",
        "ob = pd.read_csv('hw2-image.txt', header=None, sep=\" \")\n",
        "headers = ['R', 'G', 'B']\n",
        "ob.columns = headers\n",
        "obama = np.reshape(ob.values, (516, 407, 3))\n",
        "plt.imshow(obama)\n",
        "\n"
      ],
      "execution_count": 24,
      "outputs": [
        {
          "output_type": "execute_result",
          "data": {
            "text/plain": [
              "<matplotlib.image.AxesImage at 0x7f939496e198>"
            ]
          },
          "metadata": {
            "tags": []
          },
          "execution_count": 24
        },
        {
          "output_type": "display_data",
          "data": {
            "image/png": "[encoded data removed]",
            "text/plain": [
              "<Figure size 432x288 with 1 Axes>"
            ]
          },
          "metadata": {
            "tags": []
          }
        }
      ]
    },
    {
      "cell_type": "markdown",
      "metadata": {
        "id": "o_g3H8cVIS3J",
        "colab_type": "text"
      },
      "source": [
        "## Clustered Obama"
      ]
    },
    {
      "cell_type": "code",
      "metadata": {
        "id": "8uePrSbGIUOJ",
        "colab_type": "code",
        "colab": {
          "base_uri": "https://localhost:8080/",
          "height": 286
        },
        "outputId": "576654ab-0a03-4b6e-ea4d-d153267a903d"
      },
      "source": [
        "# new obama matrix\n",
        "new_obama = np.zeros((num_datapoints, num_features))\n",
        "\n",
        "# use the global cluster map to find each pixel and replace it with corresponding centroid\n",
        "\n",
        "len_map = len(global_cluster_map)\n",
        "\n",
        "for centroid_index in range(k):\n",
        "  for i in range(len_map):\n",
        "    if global_cluster_map[i] == centroid_index:\n",
        "      new_obama[i, :] = curr_centroids[centroid_index]\n",
        "\n",
        "      \n",
        "# must use new_obama in int mode\n",
        "new_obama_df = pd.DataFrame(new_obama.astype(int))\n",
        "headers = ['R', 'G', 'B']\n",
        "new_obama_df.columns = headers\n",
        "# reshape the df\n",
        "obamaobama = np.reshape(new_obama_df.values, (516, 407, 3))\n",
        "plt.imshow(obamaobama)"
      ],
      "execution_count": 25,
      "outputs": [
        {
          "output_type": "execute_result",
          "data": {
            "text/plain": [
              "<matplotlib.image.AxesImage at 0x7f9394944278>"
            ]
          },
          "metadata": {
            "tags": []
          },
          "execution_count": 25
        },
        {
          "output_type": "display_data",
          "data": {
            "image/png": "[encoded data removed]",
            "text/plain": [
              "<Figure size 432x288 with 1 Axes>"
            ]
          },
          "metadata": {
            "tags": []
          }
        }
      ]
    }
  ]
}