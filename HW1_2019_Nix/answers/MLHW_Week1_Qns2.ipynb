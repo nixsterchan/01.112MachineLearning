{
  "nbformat": 4,
  "nbformat_minor": 0,
  "metadata": {
    "colab": {
      "name": "MLHW_Week1_Qns2.ipynb",
      "provenance": [],
      "collapsed_sections": []
    },
    "kernelspec": {
      "name": "python3",
      "display_name": "Python 3"
    }
  },
  "cells": [
    {
      "cell_type": "markdown",
      "metadata": {
        "id": "mROkRbJqMpH6",
        "colab_type": "text"
      },
      "source": [
        "# Linear and polynomial regression [50 points]"
      ]
    },
    {
      "cell_type": "markdown",
      "metadata": {
        "id": "jRqYpQnTM4FO",
        "colab_type": "text"
      },
      "source": [
        "## a) Load the data and plot it"
      ]
    },
    {
      "cell_type": "markdown",
      "metadata": {
        "id": "lB5tgRTLM-Sa",
        "colab_type": "text"
      },
      "source": [
        "### Load data"
      ]
    },
    {
      "cell_type": "code",
      "metadata": {
        "id": "ry3Ahf0IMm89",
        "colab_type": "code",
        "colab": {
          "resources": {
            "http://localhost:8080/nbextensions/google.colab/files.js": {
              "data": "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",
              "ok": true,
              "headers": [
                [
                  "content-type",
                  "application/javascript"
                ]
              ],
              "status": 200,
              "status_text": ""
            }
          },
          "base_uri": "https://localhost:8080/",
          "height": 109
        },
        "outputId": "5ba6be99-ab51-4cfe-db8c-0ddbbd5d3362"
      },
      "source": [
        "## if this fails to run, just run it again\n",
        "from google.colab import files\n",
        "t_data = files.upload()"
      ],
      "execution_count": 2,
      "outputs": [
        {
          "output_type": "display_data",
          "data": {
            "text/html": [
              "\n",
              "     <input type=\"file\" id=\"files-71a3de1b-9172-40a3-8a34-4fe673de4ece\" name=\"files[]\" multiple disabled />\n",
              "     <output id=\"result-71a3de1b-9172-40a3-8a34-4fe673de4ece\">\n",
              "      Upload widget is only available when the cell has been executed in the\n",
              "      current browser session. Please rerun this cell to enable.\n",
              "      </output>\n",
              "      <script src=\"/nbextensions/google.colab/files.js\"></script> "
            ],
            "text/plain": [
              "<IPython.core.display.HTML object>"
            ]
          },
          "metadata": {
            "tags": []
          }
        },
        {
          "output_type": "stream",
          "text": [
            "Saving hw1x.dat to hw1x (1).dat\n",
            "Saving hw1y.dat to hw1y (1).dat\n"
          ],
          "name": "stdout"
        }
      ]
    },
    {
      "cell_type": "markdown",
      "metadata": {
        "id": "7YBpveLWQJ_A",
        "colab_type": "text"
      },
      "source": [
        "### Instantiate data and plot a scatter of it"
      ]
    },
    {
      "cell_type": "code",
      "metadata": {
        "id": "9EZT2Nb6M-CS",
        "colab_type": "code",
        "colab": {
          "base_uri": "https://localhost:8080/",
          "height": 287
        },
        "outputId": "0073a3e9-fd61-41f3-ab4f-557be3f8b8c2"
      },
      "source": [
        "import numpy as np\n",
        "import pandas as pd\n",
        "import matplotlib.pyplot as plt\n",
        "\n",
        "x_values = pd.read_csv('hw1x.dat', header=None)\n",
        "y_values = pd.read_csv('hw1y.dat', header=None)\n",
        "\n",
        "plt.scatter(x_values, y_values)\n"
      ],
      "execution_count": 333,
      "outputs": [
        {
          "output_type": "execute_result",
          "data": {
            "text/plain": [
              "<matplotlib.collections.PathCollection at 0x7fd16788af60>"
            ]
          },
          "metadata": {
            "tags": []
          },
          "execution_count": 333
        },
        {
          "output_type": "display_data",
          "data": {
            "image/png": "[encoded data removed]",
            "text/plain": [
              "<Figure size 432x288 with 1 Axes>"
            ]
          },
          "metadata": {
            "tags": []
          }
        }
      ]
    },
    {
      "cell_type": "markdown",
      "metadata": {
        "id": "bWx6UdXmQR3Z",
        "colab_type": "text"
      },
      "source": [
        "## b) Add column vector of 1s to the inputs and write function implementing the closed form linear regression formula to obtain weight vector theta. Plot both linear regression line and the data on the same graph"
      ]
    },
    {
      "cell_type": "markdown",
      "metadata": {
        "id": "ZGZU7n9Sj-zH",
        "colab_type": "text"
      },
      "source": [
        "### Combine with 1s vector into matrix\n"
      ]
    },
    {
      "cell_type": "code",
      "metadata": {
        "id": "VmwWIXreNdRJ",
        "colab_type": "code",
        "colab": {}
      },
      "source": [
        "column_of_ones = pd.DataFrame(np.ones(len(x_values))).to_numpy()\n",
        "\n",
        "# add column vector of 1s to inputs\n",
        "new_x = np.column_stack((column_of_ones, x_values.to_numpy()))\n"
      ],
      "execution_count": 0,
      "outputs": []
    },
    {
      "cell_type": "markdown",
      "metadata": {
        "id": "lmIuIDmCkE_R",
        "colab_type": "text"
      },
      "source": [
        "### Define closed form linear regression formula and return theta\n"
      ]
    },
    {
      "cell_type": "code",
      "metadata": {
        "id": "awjxSxk0kVEf",
        "colab_type": "code",
        "colab": {}
      },
      "source": [
        "def closed_form_l_r(inputs, labels):\n",
        "  n = len(inputs)\n",
        "  \n",
        "  X = inputs\n",
        "  X_transposed = np.transpose(X)\n",
        "  Y = labels\n",
        "  \n",
        "  # get b --- Xtranpose dot Y over n\n",
        "  mat_b = (np.dot(X_transposed, Y))/n\n",
        "  \n",
        "  # get A --- Xtranspose dot X\n",
        "  mat_A = (np.dot(X_transposed, X))/n\n",
        "  \n",
        "  # get weight theta\n",
        "  mat_A_inv = np.linalg.inv(mat_A)\n",
        "  \n",
        "  theta = np.dot(mat_A_inv, mat_b)\n",
        "  \n",
        "  return theta"
      ],
      "execution_count": 0,
      "outputs": []
    },
    {
      "cell_type": "markdown",
      "metadata": {
        "id": "rhY062f-OE7E",
        "colab_type": "text"
      },
      "source": [
        "### Plot the linear regression line with the data"
      ]
    },
    {
      "cell_type": "code",
      "metadata": {
        "id": "4VAh76gYktP6",
        "colab_type": "code",
        "colab": {
          "base_uri": "https://localhost:8080/",
          "height": 305
        },
        "outputId": "9adb24ac-1a08-4acf-a71f-1e89d890d8c0"
      },
      "source": [
        "weights = closed_form_l_r(new_x, y_values)\n",
        "\n",
        "plt.scatter(x_values, y_values)\n",
        "plt.plot(x_values, new_y, 'r')\n",
        "plt.legend([0,1])\n",
        "\n",
        "print(\"theta: \" + str(weights))\n",
        "new_y = np.dot(new_x, weights)\n"
      ],
      "execution_count": 340,
      "outputs": [
        {
          "output_type": "stream",
          "text": [
            "theta: [[3.2447227 ]\n",
            " [1.78157138]]\n"
          ],
          "name": "stdout"
        },
        {
          "output_type": "display_data",
          "data": {
            "image/png": "[encoded data removed]",
            "text/plain": [
              "<Figure size 432x288 with 1 Axes>"
            ]
          },
          "metadata": {
            "tags": []
          }
        }
      ]
    },
    {
      "cell_type": "markdown",
      "metadata": {
        "id": "uCt8uHhDQ3Wd",
        "colab_type": "text"
      },
      "source": [
        "## c) Write a function that will evaluate the training error in terms of empirical risk of the resulting fit in 2(b) and report the error"
      ]
    },
    {
      "cell_type": "code",
      "metadata": {
        "id": "clukxbgQRDqK",
        "colab_type": "code",
        "colab": {}
      },
      "source": [
        "def empirical_loss(x, y, weights):\n",
        "  n = len(x)\n",
        "  # loss = 1/2 z^2\n",
        "  z = y - np.dot(x, weights)\n",
        "  loss = 0.5 * (z**2)\n",
        "  # empirical risk\n",
        "  risk = (1/n) * (np.sum(loss))\n",
        "  \n",
        "  \n",
        "  return risk\n",
        "\n"
      ],
      "execution_count": 0,
      "outputs": []
    },
    {
      "cell_type": "markdown",
      "metadata": {
        "id": "0HqgiWcOS4uP",
        "colab_type": "text"
      },
      "source": [
        "## Error in terms of empirical risk returned"
      ]
    },
    {
      "cell_type": "code",
      "metadata": {
        "id": "SAubfYv9IoeX",
        "colab_type": "code",
        "colab": {
          "base_uri": "https://localhost:8080/",
          "height": 35
        },
        "outputId": "d41ff5d5-d0c6-4958-8cbb-eb8d4be300ac"
      },
      "source": [
        "err = empirical_loss(new_x, y_values, weights)\n",
        "print(\"The empirical loss = \" + str(err[0]))"
      ],
      "execution_count": 362,
      "outputs": [
        {
          "output_type": "stream",
          "text": [
            "The empirical loss = 0.5812605752543938\n"
          ],
          "name": "stdout"
        }
      ]
    },
    {
      "cell_type": "markdown",
      "metadata": {
        "id": "amFdkzTdREgQ",
        "colab_type": "text"
      },
      "source": [
        "## d) Write a function to calculate the weight vector theta using gradient descent. Consider learning rate as n=0.01 and number of iterations as 100. Report theta for min empirical risk from all the iterations"
      ]
    },
    {
      "cell_type": "code",
      "metadata": {
        "id": "m-I-yzrYRSkP",
        "colab_type": "code",
        "colab": {}
      },
      "source": [
        "## takes in dataframs of x and y\n",
        "def gradient_d(x, y, epochs, l_r):\n",
        "  \n",
        "  # initiate number of weights based on input x\n",
        "  num_inputs = np.shape(x)[1]\n",
        "  X = x\n",
        "  Y = y.to_numpy()\n",
        "  weights = np.zeros(num_inputs)\n",
        "  \n",
        "  risks=[]\n",
        "  weight_array = []\n",
        "  \n",
        "  for epoch in range(epochs):\n",
        "    for i, tr_input in enumerate(X):\n",
        "      subtract = Y[i] - np.dot(tr_input, weights)\n",
        "      # update the weights\n",
        "      weights += l_r * subtract * tr_input\n",
        "      \n",
        "    risks.append(empirical_loss(X, Y, weights))\n",
        "    weight_array.append(weights)\n",
        "  \n",
        "  index_min_r = np.argmin(np.array(risks))\n",
        "  \n",
        "  theta = weight_array[index_min_r]\n",
        "  \n",
        "  return theta"
      ],
      "execution_count": 0,
      "outputs": []
    },
    {
      "cell_type": "code",
      "metadata": {
        "id": "hxq1PFqab4mJ",
        "colab_type": "code",
        "colab": {
          "base_uri": "https://localhost:8080/",
          "height": 35
        },
        "outputId": "a7609420-0913-4416-92b9-e081568c377e"
      },
      "source": [
        "gd_weights = gradient_d(new_x, y_values, 100, 0.01)\n",
        "\n",
        "\n",
        "print(\"Theta for min empirical risk (GD): \" + str(gd_weights))\n"
      ],
      "execution_count": 364,
      "outputs": [
        {
          "output_type": "stream",
          "text": [
            "Theta for min empirical risk (GD): [3.13074422 1.96402963]\n"
          ],
          "name": "stdout"
        }
      ]
    },
    {
      "cell_type": "markdown",
      "metadata": {
        "id": "xSUQN01HRT5n",
        "colab_type": "text"
      },
      "source": [
        "## e) Write a function to calculate the weight vector theta using SGD. Consider learning rate n=0.01 and number of iterations as 50. Report theta for min empirical risk from all iterations"
      ]
    },
    {
      "cell_type": "code",
      "metadata": {
        "id": "n676Jt61RgUI",
        "colab_type": "code",
        "colab": {}
      },
      "source": [
        "## same as GD but with randomized inputs\n",
        "\n",
        "## takes in dataframs of x and y\n",
        "def sgd(x, y, epochs, l_r):\n",
        "  \n",
        "  # initiate number of weights based on input x\n",
        "  num_inputs = np.shape(x)[1]\n",
        "  X = x\n",
        "  Y = y.to_numpy()\n",
        "  weights = np.zeros(num_inputs)\n",
        "  \n",
        "  risks=[]\n",
        "  weight_array = []\n",
        "  \n",
        "  for epoch in range(epochs):\n",
        "    # add the updates in here to be randomized and iterated through\n",
        "    updates = []\n",
        "    \n",
        "    for i, tr_input in enumerate(X):\n",
        "      subtract = Y[i] - np.dot(tr_input, weights)\n",
        "      # update the weights\n",
        "      to_randomize.append(l_r * subtract * tr_input)\n",
        "    \n",
        "    # iterate randomly\n",
        "    to_randomize = np.array(updates)\n",
        "    np.random.shuffle(to_randomize)\n",
        "    \n",
        "    # update theta based on the randomly assorted update values\n",
        "    for i in to_randomize:\n",
        "      weights += i\n",
        "    \n",
        "    risks.append(empirical_loss(X, Y, weights))\n",
        "    weight_array.append(weights)\n",
        "  \n",
        "  index_min_r = np.argmin(np.array(risks))\n",
        "  theta = weight_array[index_min_r]\n",
        "  \n",
        "  return theta"
      ],
      "execution_count": 0,
      "outputs": []
    },
    {
      "cell_type": "code",
      "metadata": {
        "id": "qUrcqkdM-GE1",
        "colab_type": "code",
        "colab": {
          "base_uri": "https://localhost:8080/",
          "height": 35
        },
        "outputId": "041fcbbc-989e-4747-b4cf-ffaa18388cc7"
      },
      "source": [
        "sgd_weights = gradient_d(new_x, y_values, 50, 0.01)\n",
        "\n",
        "\n",
        "print(\"Theta for min empirical risk (SGD): \" + str(sgd_weights))\n"
      ],
      "execution_count": 366,
      "outputs": [
        {
          "output_type": "stream",
          "text": [
            "Theta for min empirical risk (SGD): [3.13074422 1.96402963]\n"
          ],
          "name": "stdout"
        }
      ]
    },
    {
      "cell_type": "markdown",
      "metadata": {
        "id": "5n4Q55_JRgxz",
        "colab_type": "text"
      },
      "source": [
        "## f) Write a function called PolyRegress(x,y,d) which adds the features x^2 ... x^d to the inputs and performas polynomial regression using closed form solution"
      ]
    },
    {
      "cell_type": "code",
      "metadata": {
        "id": "hC-BTj7bRv5l",
        "colab_type": "code",
        "colab": {}
      },
      "source": [
        "def PolyRegress(x, y, d):\n",
        "  \n",
        "  n = len(x)\n",
        "  X = x\n",
        "  Y = y\n",
        "  \n",
        "  # create new input x based on d\n",
        "  if (d >= 2):\n",
        "    array_of_x = [x]\n",
        "    for i in range(2,d+1):\n",
        "      array_of_x.append(x**i)\n",
        "      \n",
        "    # new x inputs replaces previous X  \n",
        "    X = np.column_stack(array_of_x)\n",
        "   \n",
        "  X_transposed = np.transpose(X)\n",
        "  \n",
        "  # get b --- Xtranpose dot Y over n\n",
        "  mat_b = (np.dot(X_transposed, Y))/n\n",
        "  \n",
        "  # get A --- Xtranspose dot X\n",
        "  mat_A = (np.dot(X_transposed, X))/n\n",
        "  \n",
        "  # get weight theta\n",
        "  mat_A_inv = np.linalg.inv(mat_A)\n",
        "  \n",
        "  theta = np.dot(mat_A_inv, mat_b)\n",
        "  \n",
        "  # return set of y values for regression line\n",
        "  ys = np.dot(X, theta)\n",
        "  \n",
        "  return [ys, theta, X]"
      ],
      "execution_count": 0,
      "outputs": []
    },
    {
      "cell_type": "markdown",
      "metadata": {
        "id": "aUSaQQM7RwoG",
        "colab_type": "text"
      },
      "source": [
        "## g) Use your function to get a quadratic fit of the data. Plot the data and the fit. Report the training error. Is this a better fit? Repeat the same for 3rd order fit to 9th order fit. After which order fit does the error get worse?"
      ]
    },
    {
      "cell_type": "markdown",
      "metadata": {
        "id": "kR2aY0FXR_Cr",
        "colab_type": "text"
      },
      "source": [
        "## Plot the data and the fit\n"
      ]
    },
    {
      "cell_type": "code",
      "metadata": {
        "id": "52STSB4VqoLz",
        "colab_type": "code",
        "colab": {
          "base_uri": "https://localhost:8080/",
          "height": 287
        },
        "outputId": "aa341f0b-20c1-43b5-b99e-55f02024c474"
      },
      "source": [
        "# test with quadratic function\n",
        "\n",
        "poly_y_values, poly_weights, poly_x_values = PolyRegress(x_values,y_values, 2)\n",
        "\n",
        "plt.scatter(x_values, y_values)\n",
        "plt.plot(x_values, poly_y_values, 'r')\n",
        "plt.legend([0,1])\n",
        "\n",
        "poly_err = empirical_loss(poly_x_values, y_values, poly_weights)\n",
        "\n",
        "print(\"The empirical loss = \" + str(poly_err[0]))\n",
        "\n"
      ],
      "execution_count": 369,
      "outputs": [
        {
          "output_type": "stream",
          "text": [
            "The empirical loss = 1.2684779949026175\n"
          ],
          "name": "stdout"
        },
        {
          "output_type": "display_data",
          "data": {
            "image/png": "[encoded data removed]",
            "text/plain": [
              "<Figure size 432x288 with 1 Axes>"
            ]
          },
          "metadata": {
            "tags": []
          }
        }
      ]
    },
    {
      "cell_type": "markdown",
      "metadata": {
        "id": "2CJK7F6HI51N",
        "colab_type": "text"
      },
      "source": [
        "Yes it is"
      ]
    },
    {
      "cell_type": "markdown",
      "metadata": {
        "id": "WooERGs8WzFm",
        "colab_type": "text"
      },
      "source": [
        "### Repeat for 3rd to 9th\n"
      ]
    },
    {
      "cell_type": "code",
      "metadata": {
        "id": "HlkJXUFSR_-G",
        "colab_type": "code",
        "colab": {
          "base_uri": "https://localhost:8080/",
          "height": 483
        },
        "outputId": "c9a0c848-9dea-4469-c502-53b755dc7cb9"
      },
      "source": [
        "\n",
        "for i in range(3,14):\n",
        "  \n",
        "  poly_y_values, poly_weights, poly_x_values = PolyRegress(x_values,y_values, i)\n",
        "  \n",
        "  if (i <= 9):\n",
        "    plt.scatter(x_values, y_values)\n",
        "    plt.plot(x_values, poly_y_values)\n",
        "\n",
        "  print(\"Number \" + str(i) + \" order, \" +str(empirical_loss(poly_x_values, y_values, poly_weights)[0]))\n",
        " \n",
        "plt.legend([str(i) for i in range(3,10)])"
      ],
      "execution_count": 371,
      "outputs": [
        {
          "output_type": "stream",
          "text": [
            "Number 3 order, 0.9437826407153135\n",
            "Number 4 order, 0.8441799172817009\n",
            "Number 5 order, 0.7395928826380531\n",
            "Number 6 order, 0.6676822164923446\n",
            "Number 7 order, 0.6153228771212186\n",
            "Number 8 order, 0.5886568301551328\n",
            "Number 9 order, 0.5753594195767032\n",
            "Number 10 order, 0.572443176142311\n",
            "Number 11 order, 0.5774260320255253\n",
            "Number 12 order, 709.0978519648535\n",
            "Number 13 order, 92.33667041783953\n"
          ],
          "name": "stdout"
        },
        {
          "output_type": "execute_result",
          "data": {
            "text/plain": [
              "<matplotlib.legend.Legend at 0x7fd167487630>"
            ]
          },
          "metadata": {
            "tags": []
          },
          "execution_count": 371
        },
        {
          "output_type": "display_data",
          "data": {
            "image/png": "[encoded data removed]",
            "text/plain": [
              "<Figure size 432x288 with 1 Axes>"
            ]
          },
          "metadata": {
            "tags": []
          }
        }
      ]
    },
    {
      "cell_type": "markdown",
      "metadata": {
        "id": "TBSUlpO-Yc89",
        "colab_type": "text"
      },
      "source": [
        "## The error starts to get worse after order 11"
      ]
    }
  ]
}